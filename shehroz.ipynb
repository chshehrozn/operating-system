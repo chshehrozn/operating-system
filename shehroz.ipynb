{
  "nbformat": 4,
  "nbformat_minor": 0,
  "metadata": {
    "colab": {
      "provenance": []
    },
    "kernelspec": {
      "name": "python3",
      "display_name": "Python 3"
    },
    "language_info": {
      "name": "python"
    }
  },
  "cells": [
    {
      "cell_type": "markdown",
      "source": [
        "# Excersice 3.4"
      ],
      "metadata": {
        "id": "PnkoT0YtGkSg"
      }
    },
    {
      "cell_type": "code",
      "source": [
        "guests_Shehroz = [\"Kamran\", \"Shehroz\", \"Ali\"];\n",
        "print(\"Hello \"+guests_Shehroz[0]+\", \"+guests_Shehroz[1]+\", \"+guests_Shehroz[2]+\", You all are invited for Dinner at Ramada on coming Sunday.\")"
      ],
      "metadata": {
        "colab": {
          "base_uri": "https://localhost:8080/"
        },
        "id": "JByBChT6GR5y",
        "outputId": "9d15f851-945f-46c6-d646-a7180070238d"
      },
      "execution_count": 7,
      "outputs": [
        {
          "output_type": "stream",
          "name": "stdout",
          "text": [
            "Hello Kamran, Shehroz, Ali, You all are invited for Dinner at Ramada on coming Sunday.\n"
          ]
        }
      ]
    },
    {
      "cell_type": "markdown",
      "source": [
        "# Excersice 3.5"
      ],
      "metadata": {
        "id": "O_ts4ArxGcgf"
      }
    },
    {
      "cell_type": "code",
      "source": [
        "guests_Shehroz = [\"Kamran\", \"Shehroz\", \"Ali\"];\n",
        "print(guests_Shehroz[1]+\" Will not be able to join us for Dinner.\")\n",
        "\n",
        "guests_Shehroz[1] = 'Usama';\n",
        "print(\"Hi \"+guests_Shehroz[0]+\", You are invited for Dinner at Belmoris.\")\n",
        "print(\"Hi \"+guests_Shehroz[1]+\", You are invited for Dinner at Belmoris\")\n",
        "print(\"Hi \"+guests_Shehroz[2]+\", You are invited for Dinner at Belmoris\")"
      ],
      "metadata": {
        "colab": {
          "base_uri": "https://localhost:8080/"
        },
        "id": "X-gWiCJVGoHA",
        "outputId": "1108bc6e-f826-4925-becd-b3e83b700365"
      },
      "execution_count": 9,
      "outputs": [
        {
          "output_type": "stream",
          "name": "stdout",
          "text": [
            "Shehroz Will not be able to join us for Dinner.\n",
            "Hi Kamran, You are invited for Dinner at Belmoris.\n",
            "Hi Usama, You are invited for Dinner at Belmoris\n",
            "Hi Ali, You are invited for Dinner at Belmoris\n"
          ]
        }
      ]
    },
    {
      "cell_type": "markdown",
      "source": [
        "## Excersice 3.6"
      ],
      "metadata": {
        "id": "5uh2z9F8GwlY"
      }
    },
    {
      "cell_type": "code",
      "source": [
        "guests_Shehroz = [\"Kamran\", \"Shehroz\", \"Ali\"];\n",
        "guests_Shehroz.insert(0, \"Mohsin\");\n",
        "guests_Shehroz.insert(2, \"Arslan\");\n",
        "guests_Shehroz.append(\"Ahmad\");\n",
        "\n",
        "print(\"I am erally sorry I can invite only two people\")\n",
        "removed1 = guests_Shehroz.pop(0)\n",
        "print(\"Hi \"+removed1+\", Sorry I can't invite you to dinner\")\n",
        "removed2 = guests_Shehroz.pop(0)\n",
        "print(\"Hi \"+removed2+\", Sorry I can't invite you to dinner\")\n",
        "removed3 = guests_Shehroz.pop(0)\n",
        "print(\"Hi \"+removed3+\", Sorry I can't invite you to dinner\")\n",
        "removed4 = guests_Shehroz.pop(0)\n",
        "print(\"Hi \"+removed4+\", Sorry I can't invite you to dinner\")\n",
        "print(\"Hi \"+guests_Shehroz[0]+\", You are still invited for the Dinner\")\n",
        "print(\"Hi \"+guests_Shehroz[1]+\", You are still invited for the Dinner\")\n",
        "\n",
        "del guests_Shehroz[0]\n",
        "del guests_Shehroz[0]\n",
        "print(guests_Shehroz)"
      ],
      "metadata": {
        "colab": {
          "base_uri": "https://localhost:8080/"
        },
        "id": "0zKsk0GJHAUP",
        "outputId": "4deb3b7c-6870-41f1-f02e-5d2967b55ed0"
      },
      "execution_count": 10,
      "outputs": [
        {
          "output_type": "stream",
          "name": "stdout",
          "text": [
            "I am erally sorry I can invite only two people\n",
            "Hi Mohsin, Sorry I can't invite you to dinner\n",
            "Hi Kamran, Sorry I can't invite you to dinner\n",
            "Hi Arslan, Sorry I can't invite you to dinner\n",
            "Hi Shehroz, Sorry I can't invite you to dinner\n",
            "Hi Ali, You are still invited for the Dinner\n",
            "Hi Ahmad, You are still invited for the Dinner\n",
            "[]\n"
          ]
        }
      ]
    },
    {
      "cell_type": "markdown",
      "source": [
        "# Chapter **4**"
      ],
      "metadata": {
        "id": "M1Xjf7-pHLVw"
      }
    },
    {
      "cell_type": "markdown",
      "source": [
        "# 4.1. "
      ],
      "metadata": {
        "id": "JDqOtFIJHYjf"
      }
    },
    {
      "cell_type": "code",
      "source": [
        "pizza_list_Shehroz = ['Chilli', 'Margherita', 'Hawaiian']\n",
        "for pizza in pizza_list_Shehroz:\n",
        "  print(\"I Like \"+pizza+\" Pizza it's amazing.\")\n",
        "print(\"I love to eat pizza with ketchup, especially with friends.\")"
      ],
      "metadata": {
        "colab": {
          "base_uri": "https://localhost:8080/"
        },
        "id": "POJrJavIHilY",
        "outputId": "e7be2d49-25e1-4c9a-fb51-827a4c365a73"
      },
      "execution_count": 11,
      "outputs": [
        {
          "output_type": "stream",
          "name": "stdout",
          "text": [
            "I Like Chilli Pizza it's amazing.\n",
            "I Like Margherita Pizza it's amazing.\n",
            "I Like Hawaiian Pizza it's amazing.\n",
            "I love to eat pizza with ketchup, especially with friends.\n"
          ]
        }
      ]
    },
    {
      "cell_type": "markdown",
      "source": [
        "# 4.2."
      ],
      "metadata": {
        "id": "Yu_7bIpYHuQW"
      }
    },
    {
      "cell_type": "code",
      "source": [
        "pet_list_Shehroz = [\"cat\", \"dog\", \"horse\"]\n",
        "\n",
        "for pet in pet_list_Shehroz:\n",
        "  print(\"A \"+pet.title()+\" would make a great pet.\")\n",
        "print(\"\\nAny of these animals would make a great pet!\")"
      ],
      "metadata": {
        "colab": {
          "base_uri": "https://localhost:8080/"
        },
        "id": "5CTmJ4_FH5F-",
        "outputId": "13ad9883-562e-4bcb-e4f4-70f4a6d5cff8"
      },
      "execution_count": 12,
      "outputs": [
        {
          "output_type": "stream",
          "name": "stdout",
          "text": [
            "A Cat would make a great pet.\n",
            "A Dog would make a great pet.\n",
            "A Horse would make a great pet.\n",
            "\n",
            "Any of these animals would make a great pet!\n"
          ]
        }
      ]
    }
  ]
}